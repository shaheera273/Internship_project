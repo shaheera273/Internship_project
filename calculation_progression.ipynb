{
 "cells": [
  {
   "cell_type": "code",
   "execution_count": 1,
   "id": "b0973662-ad93-4c56-8270-80707a84dced",
   "metadata": {},
   "outputs": [],
   "source": [
    "import math\n",
    "\n",
    "def ceiling_rounding(num, decimal_places=0):\n",
    "    \"\"\"Round a number upward to the nearest odd number while keeping decimal precision.\"\"\"\n",
    "    \n",
    "    if decimal_places == 0:  \n",
    "        # Whole numbers: Round up to next odd number\n",
    "        rounded = math.ceil(num)  # Round up normally\n",
    "        \n",
    "        # If the number is even, make it odd by adding 1\n",
    "        if rounded % 2 == 0:\n",
    "            rounded += 1\n",
    "            \n",
    "        return rounded\n",
    "\n",
    "    else:  \n",
    "        # Decimal numbers: Round up to the next decimal while ensuring the last digit is odd\n",
    "        multiplier = 10 ** decimal_places\n",
    "        rounded = math.ceil(num * multiplier) / multiplier  # Round up normally\n",
    "        \n",
    "        # Convert to string to check last digit\n",
    "        str_rounded = f\"{rounded:.{decimal_places}f}\"\n",
    "        last_digit = int(str_rounded[-1])\n",
    "\n",
    "        if last_digit % 2 == 0:  # If the last digit is even, increase to next odd\n",
    "            increment = 1 / multiplier\n",
    "            rounded += increment\n",
    "\n",
    "        return round(rounded, decimal_places)\n"
   ]
  },
  {
   "cell_type": "code",
   "execution_count": 7,
   "id": "9d792c21-fbbf-492e-8194-76a5ca1f8cde",
   "metadata": {},
   "outputs": [
    {
     "name": "stdout",
     "output_type": "stream",
     "text": [
      "Before Ceiling Rounding:\n",
      "V: 1773.0000, Yv: 2265.4450, Cv: 1596.9050\n",
      "\n",
      "After Ceiling Rounding:\n",
      "V: 1773.01, Yv: 2265.45, Cv: 1596.91\n",
      "DS: [104736.73, 106509.74, 108282.75, 110055.76, 111828.77, 113601.78, 115374.79, 117147.8, 118920.81, 120693.82]\n",
      "DB: [100208.84, 101981.85, 103754.86, 105527.87, 107300.88, 109073.89, 110846.9, 112619.91, 114392.92, 116165.93]\n",
      "YVB: [106398.34, 108663.79, 110929.24, 113194.69, 115460.14, 117725.59, 119991.04, 122256.49, 124521.94, 126787.39]\n",
      "YVS: [103207.53, 105472.98, 107738.43, 110003.88, 112269.33, 114534.78, 116800.23, 119065.68, 121331.13, 123596.58]\n",
      "Selected DB Indices: []\n",
      "Selected YVB Indices: []\n",
      "Pairs: []\n"
     ]
    }
   ],
   "source": [
    "# Given Data XAAUSD (30/1/2025)\n",
    "vh, vl, yh, yl, ch, cl = 103757.04, 100214.04, 104736.73, 100208.84, 106398.34, 103207.53\n",
    "link = 3  # Fixed value for each counter\n",
    "\n",
    "# Step 1: Calculate V, Yv, Cv\n",
    "V = (vh - vl + link) / 2\n",
    "Yv = (yh - yl + link) / 2\n",
    "Cv = (ch - cl + link) / 2\n",
    "\n",
    "# Print before rounding\n",
    "print(f\"Before Ceiling Rounding:\")\n",
    "print(f\"V: {V:.4f}, Yv: {Yv:.4f}, Cv: {Cv:.4f}\")\n",
    "\n",
    "# Apply ceiling rounding after calculating V, Yv, and Cv (2 decimal places)\n",
    "V = ceiling_rounding(V, 2)\n",
    "Yv = ceiling_rounding(Yv, 2)\n",
    "Cv = ceiling_rounding(Cv, 2)\n",
    "\n",
    "# Print after rounding\n",
    "print(f\"\\nAfter Ceiling Rounding:\")\n",
    "print(f\"V: {V:.2f}, Yv: {Yv:.2f}, Cv: {Cv:.2f}\")\n",
    "\n",
    "# Step 2: Generate Arithmetic Progressions\n",
    "n = 10  # Number of elements in each sequence\n",
    "\n",
    "DS = [round(yh + i * V, 2) for i in range(n)]\n",
    "DB = [round(yl + i * V, 2) for i in range(n)]\n",
    "YVB = [round(ch + i * Yv, 2) for i in range(n)]\n",
    "YVS = [round(cl + i * Yv, 2) for i in range(n)]\n",
    "\n",
    "print(f\"DS: {DS}\")\n",
    "print(f\"DB: {DB}\")\n",
    "print(f\"YVB: {YVB}\")\n",
    "print(f\"YVS: {YVS}\")\n",
    "\n",
    "# Step 3: Find Intersection Based on Link (Using Nested Loops)\n",
    "SelectedDB = []\n",
    "SelectedYVB = []\n",
    "\n",
    "for x in range(len(DB)):\n",
    "    for y in range(len(YVB)):\n",
    "        if abs(DB[x] - YVB[y]) <= link:  # Check if difference is within Link\n",
    "            SelectedDB.append(x)\n",
    "            SelectedYVB.append(y)\n",
    "\n",
    "# Step 4: Output Results\n",
    "print(f\"Selected DB Indices: {SelectedDB}\")\n",
    "print(f\"Selected YVB Indices: {SelectedYVB}\")\n",
    "\n",
    "# Store results as index pairs\n",
    "Result_Pairs = [f\"{SelectedDB[i]}:{SelectedYVB[i]}\" for i in range(len(SelectedDB))]\n",
    "print(f\"Pairs: {Result_Pairs}\")\n"
   ]
  },
  {
   "cell_type": "code",
   "execution_count": null,
   "id": "571e5d67-7580-437d-aa7c-1c051732efb1",
   "metadata": {},
   "outputs": [
    {
     "name": "stdin",
     "output_type": "stream",
     "text": [
      "Enter a number to round (or type 'exit' to stop):  51.45\n",
      "Enter the number of decimal places (0 for whole numbers):  2\n"
     ]
    },
    {
     "name": "stdout",
     "output_type": "stream",
     "text": [
      "Rounded value: 51.45\n",
      "\n"
     ]
    },
    {
     "name": "stdin",
     "output_type": "stream",
     "text": [
      "Enter a number to round (or type 'exit' to stop):  5.6425322\n",
      "Enter the number of decimal places (0 for whole numbers):  4\n"
     ]
    },
    {
     "name": "stdout",
     "output_type": "stream",
     "text": [
      "Rounded value: 5.6427\n",
      "\n"
     ]
    },
    {
     "name": "stdin",
     "output_type": "stream",
     "text": [
      "Enter a number to round (or type 'exit' to stop):  exit\n"
     ]
    }
   ],
   "source": [
    "# Repeated input from the user\n",
    "while True:\n",
    "    try:\n",
    "        num = float(input(\"Enter a number to round (or type 'exit' to stop): \"))\n",
    "        decimal_places = int(input(\"Enter the number of decimal places (0 for whole numbers): \"))\n",
    "        \n",
    "        rounded_value = ceiling_rounding(num, decimal_places)\n",
    "        print(f\"Rounded value: {rounded_value}\\n\")\n",
    "        \n",
    "    except ValueError:\n",
    "        user_input = input(\"Invalid input. Type 'exit' to stop or press Enter to try again: \")\n",
    "        if user_input.lower() == 'exit':\n",
    "            print(\"Exiting...\")\n",
    "            break"
   ]
  },
  {
   "cell_type": "code",
   "execution_count": null,
   "id": "bad6713f-e900-4adb-81d0-052fea44c0b4",
   "metadata": {},
   "outputs": [],
   "source": []
  }
 ],
 "metadata": {
  "kernelspec": {
   "display_name": "Python 3 (ipykernel)",
   "language": "python",
   "name": "python3"
  },
  "language_info": {
   "codemirror_mode": {
    "name": "ipython",
    "version": 3
   },
   "file_extension": ".py",
   "mimetype": "text/x-python",
   "name": "python",
   "nbconvert_exporter": "python",
   "pygments_lexer": "ipython3",
   "version": "3.12.4"
  }
 },
 "nbformat": 4,
 "nbformat_minor": 5
}
